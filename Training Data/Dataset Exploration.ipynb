{
 "cells": [
  {
   "cell_type": "markdown",
   "metadata": {},
   "source": [
    "# Financial Sentiment Analysis Dataset Exploration\n",
    "\n",
    "This notebook loads, cleans and combines two financial sentiment datasets for further analysis."
   ]
  },
  {
   "cell_type": "code",
   "execution_count": 67,
   "metadata": {},
   "outputs": [],
   "source": [
    "# Import libraries\n",
    "import pandas as pd\n",
    "import numpy as np\n",
    "from datasets import load_dataset\n",
    "\n",
    "def load_dataset1():\n",
    "    \"\"\"Load and clean the first dataset.\"\"\"\n",
    "    ds = load_dataset(\"NickyNicky/finance-financialmodelingprep-stock-news-sentiments-rss-feed\")\n",
    "    df = pd.DataFrame(ds['train'])\n",
    "    df.drop(['symbol', 'title', 'publishedDate', 'image', 'site', 'url', 'sentimentScore'], axis=1, inplace=True)\n",
    "    # Lowercase the sentiment column\n",
    "    df['sentiment'] = df['sentiment'].str.lower()\n",
    "    return df\n",
    "\n",
    "def load_dataset2():\n",
    "    \"\"\"Load, filter and clean the second dataset.\"\"\"\n",
    "    ds = load_dataset(\"NickyNicky/Finance_sentiment_and_topic_classification_En\")\n",
    "    df = pd.DataFrame(ds['train'])\n",
    "    # Filter rows based on the exact system_prompt text\n",
    "    df = df[df['system_prompt'] == 'You are a financial sentiment analysis expert. Your task is to analyze the sentiment expressed in the given financial text.Only reply with positive, neutral, or negative.']\n",
    "    # Drop unused columns and rename to match dataset1\n",
    "    df = df.drop(columns=['system_prompt', 'task_type'])\n",
    "    df = df.rename(columns={\"user_prompt\": \"text\", \"answer\": \"sentiment\"})\n",
    "    return df\n",
    "\n",
    "def combine_datasets(df1, df2):\n",
    "    \"\"\"Concatenate the two dataframes.\"\"\"\n",
    "    return pd.concat([df1, df2], ignore_index=True)\n",
    "\n",
    "def normalize_dataset(df, samples=14212):\n",
    "    \"\"\"Even out sentiment counts by sampling.\"\"\"\n",
    "    return df.groupby('sentiment').sample(samples, replace=True)\n",
    "\n",
    "def remove_neutral(df):\n",
    "    \"\"\"Remove rows with neutral sentiment.\"\"\"\n",
    "    return df[df['sentiment'] != 'neutral']"
   ]
  },
  {
   "cell_type": "code",
   "execution_count": 68,
   "metadata": {},
   "outputs": [
    {
     "name": "stdout",
     "output_type": "stream",
     "text": [
      "Dataset 1 shape: (142000, 2)\n",
      "Dataset 2 shape: (28628, 2)\n"
     ]
    }
   ],
   "source": [
    "# Load and clean the datasets\n",
    "df_1 = load_dataset1()\n",
    "df_2 = load_dataset2()\n",
    "\n",
    "print('Dataset 1 shape:', df_1.shape)\n",
    "print('Dataset 2 shape:', df_2.shape)"
   ]
  },
  {
   "cell_type": "code",
   "execution_count": null,
   "metadata": {},
   "outputs": [
    {
     "name": "stdout",
     "output_type": "stream",
     "text": [
      "Combined dataset sentiment distribution:\n",
      "positive    134257\n",
      "negative     22159\n",
      "neutral      14212\n",
      "Name: sentiment, dtype: int64\n"
     ]
    }
   ],
   "source": [
    "# Combine the two datasets and export to CSV\n",
    "df = combine_datasets(df_1, df_2)\n",
    "df.to_csv('stock_news_sentiments_RAW.csv', index=False)\n",
    "print('Combined dataset sentiment distribution:')\n",
    "print(df['sentiment'].value_counts())"
   ]
  },
  {
   "cell_type": "code",
   "execution_count": 70,
   "metadata": {},
   "outputs": [
    {
     "name": "stdout",
     "output_type": "stream",
     "text": [
      "Normalized (with neutral) distribution:\n",
      "negative    14212\n",
      "neutral     14212\n",
      "positive    14212\n",
      "Name: sentiment, dtype: int64\n"
     ]
    }
   ],
   "source": [
    "# Normalize the dataset (including neutral) and export\n",
    "df_normalized = normalize_dataset(df, samples=14212)\n",
    "print('Normalized (with neutral) distribution:')\n",
    "print(df_normalized['sentiment'].value_counts())\n",
    "df_normalized.to_csv('stock_news_sentiments_Normalized_Neu_Pos_Neg.csv', index=False)"
   ]
  },
  {
   "cell_type": "code",
   "execution_count": 71,
   "metadata": {},
   "outputs": [],
   "source": [
    "# Remove neutral sentiment, normalize for positive/negative, and export\n",
    "df_no_neutral = remove_neutral(df)\n",
    "df_normalized_neg_pos = df_no_neutral.groupby('sentiment').sample(22159, replace=True)\n",
    "df_normalized_neg_pos.to_csv('stock_news_sentiments_Normalized_Pos_Neg.csv', index=False)"
   ]
  }
 ],
 "metadata": {
  "kernelspec": {
   "display_name": "Python 3",
   "language": "python",
   "name": "python3"
  },
  "language_info": {
   "codemirror_mode": {
    "name": "ipython",
    "version": 3
   },
   "file_extension": ".py",
   "mimetype": "text/x-python",
   "name": "python",
   "nbconvert_exporter": "python",
   "pygments_lexer": "ipython3",
   "version": "3.10.16"
  }
 },
 "nbformat": 4,
 "nbformat_minor": 2
}
